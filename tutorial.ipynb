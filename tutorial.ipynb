{
 "cells": [
  {
   "cell_type": "markdown",
   "metadata": {
    "collapsed": false,
    "pycharm": {
     "name": "#%% md\n"
    }
   },
   "source": [
    "Import methods from API"
   ]
  },
  {
   "cell_type": "code",
   "execution_count": null,
   "metadata": {
    "collapsed": true,
    "pycharm": {
     "name": "#%%\n"
    }
   },
   "outputs": [],
   "source": [
    "from BioTranslator import setup_config, train_text_encoder, get_ontology_embeddings, train_biotranslator, test_biotranslator"
   ]
  },
  {
   "cell_type": "markdown",
   "metadata": {
    "collapsed": false,
    "pycharm": {
     "name": "#%% md\n"
    }
   },
   "source": [
    "Train text encoder"
   ]
  },
  {
   "cell_type": "code",
   "execution_count": null,
   "metadata": {
    "collapsed": false,
    "pycharm": {
     "name": "#%%\n"
    }
   },
   "outputs": [],
   "source": [
    "model_path = './Codebase/TextEncoder/model/text_encoder.pth'\n",
    "graphine_repo = './Codebase/TextEncoder/data/Graphine/dataset/'\n",
    "train_text_encoder(graphine_repo, model_path)"
   ]
  },
  {
   "cell_type": "markdown",
   "metadata": {
    "collapsed": false,
    "pycharm": {
     "name": "#%% md\n"
    }
   },
   "source": [
    "Build configs"
   ]
  },
  {
   "cell_type": "code",
   "execution_count": null,
   "metadata": {
    "collapsed": false,
    "pycharm": {
     "name": "#%%\n"
    }
   },
   "outputs": [],
   "source": [
    "import os\n",
    "def create_repo(path):\n",
    "    if not os.path.exists(path):\n",
    "        os.mkdir(path)\n",
    "        print('Warning: We created the repo: {}'.format(path))\n",
    "seq_repo = f'./Codebase/Protein'\n",
    "create_repo(seq_repo)\n",
    "seq_config = {\n",
    "    'task': 'few_shot',\n",
    "    'max_length': 2000,\n",
    "    'data_repo': f'{seq_repo}/data/',\n",
    "    'dataset': 'GOA_Human',\n",
    "    'encoder_path': './Codebase/TextEncoder/Encoder/text_encoder.pth',\n",
    "    'rst_dir': f'{seq_repo}/results/',\n",
    "    'emb_dir': f'{seq_repo}/embeddings/',\n",
    "    'ws_dir': f'{seq_repo}/working_space/',\n",
    "    'hidden_dim': 1500,\n",
    "    'features': 'seqs, description, network',\n",
    "    'lr': 0.0003,\n",
    "    'epoch': 30,\n",
    "    'batch_size': 32,\n",
    "    'gpu_ids': '0',\n",
    "}\n",
    "vec_repo = f'./Codebase/SingleCell'\n",
    "vec_config = {\n",
    "    'task': 'cross-dataset',\n",
    "    'eval_dataset': 'muris_facs',\n",
    "    'vec_ontology_repo': f'{vec_repo}/data/Ontology_data/',\n",
    "    'data_repo': f'{seq_repo}/data/sc_data/',\n",
    "    'dataset': 'muris_droplet',\n",
    "    'encoder_path': './Codebase/TextEncoder/Encoder/text_encoder.pth',\n",
    "    'rst_dir': f'{seq_repo}/results/',\n",
    "    'emb_dir': f'{seq_repo}/embeddings/',\n",
    "    'ws_dir': f'{seq_repo}/working_space/',\n",
    "    'hidden_dim': 30,\n",
    "    'lr': 0.0001,\n",
    "    'epoch': 15,\n",
    "    'batch_size': 128,\n",
    "    'gpu_ids': '0',\n",
    "}\n",
    "\n",
    "graph_repo = f'./Codebase/Pathway'\n",
    "graph_config = {\n",
    "    'max_length': 2000,\n",
    "    'eval_dataset': 'KEGG',\n",
    "    'graph_excludes': ['Reactome', 'KEGG', 'PharmGKB'],\n",
    "    'data_repo': f'{seq_repo}/data/',\n",
    "    'dataset': 'GOA_Human',\n",
    "    'encoder_path': './Codebase/TextEncoder/Encoder/text_encoder.pth',\n",
    "    'rst_dir': f'{seq_repo}/results/',\n",
    "    'emb_dir': f'{seq_repo}/embeddings/',\n",
    "    'ws_dir': f'{seq_repo}/working_space/',\n",
    "    'hidden_dim': 1500,\n",
    "    'features': 'seqs, description, network',\n",
    "    'lr': 0.0003,\n",
    "    'epoch': 30,\n",
    "    'batch_size': 32,\n",
    "    'gpu_ids': '0',\n",
    "}\n",
    "\n",
    "seq_config = setup_config(seq_config, 'seq')\n",
    "vec_config = setup_config(vec_config, 'vec')\n",
    "graph_config = setup_config(graph_config, 'graph')\n",
    "\n",
    "cfgs = [seq_config, vec_config, graph_config]"
   ]
  },
  {
   "cell_type": "markdown",
   "metadata": {
    "collapsed": false,
    "pycharm": {
     "name": "#%% md\n"
    }
   },
   "source": [
    "Get Ontology Embeddings"
   ]
  },
  {
   "cell_type": "code",
   "execution_count": null,
   "metadata": {
    "collapsed": false,
    "pycharm": {
     "name": "#%%\n"
    }
   },
   "outputs": [],
   "source": [
    "data_dir = seq_config.data_repo + seq_config.dataset + '/'\n",
    "text_embs = []\n",
    "for cfg in cfgs:\n",
    "    get_ontology_embeddings(model_path, data_dir, cfg)"
   ]
  },
  {
   "cell_type": "markdown",
   "metadata": {
    "collapsed": false,
    "pycharm": {
     "name": "#%% md\n"
    }
   },
   "source": [
    "Train BioTranslators"
   ]
  },
  {
   "cell_type": "code",
   "execution_count": null,
   "metadata": {
    "collapsed": false,
    "pycharm": {
     "name": "#%%\n"
    }
   },
   "outputs": [],
   "source": [
    "encoders = train_biotranslator(cfgs)"
   ]
  },
  {
   "cell_type": "markdown",
   "metadata": {
    "collapsed": false,
    "pycharm": {
     "name": "#%% md\n"
    }
   },
   "source": [
    "Test BioTranslators"
   ]
  },
  {
   "cell_type": "code",
   "execution_count": null,
   "metadata": {
    "collapsed": false,
    "pycharm": {
     "name": "#%%\n"
    }
   },
   "outputs": [],
   "source": [
    "import pandas as pd\n",
    "from BioTranslator import BioLoader\n",
    "\n",
    "tasks = dict(\n",
    "    seq = ['prot_func_pred'],\n",
    "    vec = ['cell_type_cls'],\n",
    "    graph = ['node_cls', 'edge_pred'])\n",
    "vec_files = BioLoader(vec_config)\n",
    "anno_data = dict(\n",
    "    seq = [pd.read_pickle(f'{seq_config.data_repo}{seq_config.dataset}/validation_data_fold_0.pkl')],\n",
    "    vec = [vec_files.test_data],\n",
    "    graph = [pd.read_pickle(f'{graph_config.data_repo}{graph_config.eval_dataset}/pathway_dataset.pkl'),\n",
    "             pd.read_pickle(f'{graph_config.data_repo}{graph_config.eval_dataset}/pathway_dataset.pkl')],\n",
    ")\n",
    "for tp_idx, tp in enumerate(list(tasks.keys())):\n",
    "    for task_idx in range(len(tasks[tp])):\n",
    "        cfg = cfgs[tp_idx]\n",
    "        encoder = encoders[tp_idx]\n",
    "        annos = test_biotranslator(cfg.data_repo, anno_data[tp][task_idx], cfg, encoder, tasks[tp][task_idx])\n",
    "print(annos)\n"
   ]
  }
 ],
 "metadata": {
  "kernelspec": {
   "display_name": "Python 3.7.9 64-bit",
   "language": "python",
   "name": "python3"
  },
  "language_info": {
   "codemirror_mode": {
    "name": "ipython",
    "version": 2
   },
   "file_extension": ".py",
   "mimetype": "text/x-python",
   "name": "python",
   "nbconvert_exporter": "python",
   "pygments_lexer": "ipython2",
   "version": "3.7.9"
  },
  "vscode": {
   "interpreter": {
    "hash": "02b03dc30017a5ebf1bd8aef478cb548679a1a53c4b65538691a9b91efb57bec"
   }
  }
 },
 "nbformat": 4,
 "nbformat_minor": 0
}
