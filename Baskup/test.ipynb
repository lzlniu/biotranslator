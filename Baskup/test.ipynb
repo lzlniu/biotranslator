{
 "cells": [
  {
   "cell_type": "markdown",
   "source": [
    "Import methods from API"
   ],
   "metadata": {
    "collapsed": false,
    "pycharm": {
     "name": "#%% md\n"
    }
   }
  },
  {
   "cell_type": "code",
   "execution_count": null,
   "metadata": {
    "collapsed": true,
    "pycharm": {
     "name": "#%%\n"
    }
   },
   "outputs": [],
   "source": [
    "from BioTranslator import setup_config, train_text_encoder, get_ontology_embeddings, train_biotranslator, test_biotranslator"
   ]
  },
  {
   "cell_type": "markdown",
   "source": [
    "Train text encoder"
   ],
   "metadata": {
    "collapsed": false,
    "pycharm": {
     "name": "#%% md\n"
    }
   }
  },
  {
   "cell_type": "code",
   "execution_count": null,
   "outputs": [],
   "source": [
    "model_path = './Codebase/TextEncoder/model/text_encoder.pth'\n",
    "graphine_repo = './Codebase/TextEncoder/data/Graphine/dataset/'\n",
    "train_text_encoder(graphine_repo, model_path)"
   ],
   "metadata": {
    "collapsed": false,
    "pycharm": {
     "name": "#%%\n"
    }
   }
  },
  {
   "cell_type": "markdown",
   "source": [
    "Build configs"
   ],
   "metadata": {
    "collapsed": false,
    "pycharm": {
     "name": "#%% md\n"
    }
   }
  },
  {
   "cell_type": "code",
   "execution_count": null,
   "outputs": [],
   "source": [
    "import os\n",
    "def create_repo(path):\n",
    "    if not os.path.exists(path):\n",
    "        os.mkdir(path)\n",
    "        print('Warning: We created the repo: {}'.format(path))\n",
    "seq_repo = f'./Codebase/Protein'\n",
    "create_repo(seq_repo)\n",
    "seq_config = {\n",
    "    'task': 'few_shot',\n",
    "    'max_length': 2000,\n",
    "    'data_repo': f'{seq_repo}/data/',\n",
    "    'dataset': 'GOA_Human',\n",
    "    'encoder_path': './Codebase/TextEncoder/Encoder/text_encoder.pth',\n",
    "    'rst_dir': f'{seq_repo}/results/',\n",
    "    'emb_dir': f'{seq_repo}/embeddings/',\n",
    "    'ws_dir': f'{seq_repo}/working_space/',\n",
    "    'hidden_dim': 1500,\n",
    "    'features': 'seqs, description, network',\n",
    "    'lr': 0.0003,\n",
    "    'epoch': 30,\n",
    "    'batch_size': 32,\n",
    "    'gpu_ids': '0',\n",
    "}\n",
    "vec_repo = f'./Codebase/SingleCell'\n",
    "vec_config = {\n",
    "    'task': 'cross-dataset',\n",
    "    'eval_dataset': 'muris_facs',\n",
    "    'vec_ontology_repo': f'{vec_repo}/data/Ontology_data/',\n",
    "    'data_repo': f'{seq_repo}/data/sc_data/',\n",
    "    'dataset': 'muris_droplet',\n",
    "    'encoder_path': './Codebase/TextEncoder/Encoder/text_encoder.pth',\n",
    "    'rst_dir': f'{seq_repo}/results/',\n",
    "    'emb_dir': f'{seq_repo}/embeddings/',\n",
    "    'ws_dir': f'{seq_repo}/working_space/',\n",
    "    'hidden_dim': 30,\n",
    "    'lr': 0.0001,\n",
    "    'epoch': 15,\n",
    "    'batch_size': 128,\n",
    "    'gpu_ids': '0',\n",
    "}\n",
    "\n",
    "graph_repo = f'./Codebase/Pathway'\n",
    "graph_config = {\n",
    "    'max_length': 2000,\n",
    "    'eval_dataset': 'KEGG',\n",
    "    'graph_excludes': ['Reactome', 'KEGG', 'PharmGKB'],\n",
    "    'data_repo': f'{seq_repo}/data/',\n",
    "    'dataset': 'GOA_Human',\n",
    "    'encoder_path': './Codebase/TextEncoder/Encoder/text_encoder.pth',\n",
    "    'rst_dir': f'{seq_repo}/results/',\n",
    "    'emb_dir': f'{seq_repo}/embeddings/',\n",
    "    'ws_dir': f'{seq_repo}/working_space/',\n",
    "    'hidden_dim': 1500,\n",
    "    'features': 'seqs, description, network',\n",
    "    'lr': 0.0003,\n",
    "    'epoch': 30,\n",
    "    'batch_size': 32,\n",
    "    'gpu_ids': '0',\n",
    "}\n",
    "\n",
    "seq_config = setup_config(seq_config, 'seq')\n",
    "vec_config = setup_config(vec_config, 'vec')\n",
    "graph_config = setup_config(graph_config, 'graph')\n",
    "\n",
    "cfgs = [seq_config, vec_config, graph_config]"
   ],
   "metadata": {
    "collapsed": false,
    "pycharm": {
     "name": "#%%\n"
    }
   }
  },
  {
   "cell_type": "markdown",
   "source": [
    "Get Ontology Embeddings"
   ],
   "metadata": {
    "collapsed": false,
    "pycharm": {
     "name": "#%% md\n"
    }
   }
  },
  {
   "cell_type": "code",
   "execution_count": null,
   "outputs": [],
   "source": [
    "data_dir = seq_config.data_repo + seq_config.dataset + '/'\n",
    "text_embs = []\n",
    "for cfg in cfgs:\n",
    "    get_ontology_embeddings(model_path, data_dir, cfg)"
   ],
   "metadata": {
    "collapsed": false,
    "pycharm": {
     "name": "#%%\n"
    }
   }
  },
  {
   "cell_type": "markdown",
   "source": [
    "Train BioTranslators"
   ],
   "metadata": {
    "collapsed": false,
    "pycharm": {
     "name": "#%% md\n"
    }
   }
  },
  {
   "cell_type": "code",
   "execution_count": null,
   "outputs": [],
   "source": [
    "encoders = train_biotranslator(cfgs)"
   ],
   "metadata": {
    "collapsed": false,
    "pycharm": {
     "name": "#%%\n"
    }
   }
  },
  {
   "cell_type": "markdown",
   "source": [
    "Test BioTranslators"
   ],
   "metadata": {
    "collapsed": false,
    "pycharm": {
     "name": "#%% md\n"
    }
   }
  },
  {
   "cell_type": "code",
   "execution_count": null,
   "outputs": [],
   "source": [
    "tasks = dict(\n",
    "    seq = ['prot_func_pred'],\n",
    "    vec = ['cell_type_cls'],\n",
    "    graph = ['node_cls', 'edge_pred'])\n",
    "anno_file = dict(\n",
    "    seq = [''],\n",
    "    vec = [''],\n",
    "    graph = ['', ''],\n",
    ")\n",
    "test_biotranslator(data_dir, anno_file, cfgs, encoders, tasks)"
   ],
   "metadata": {
    "collapsed": false,
    "pycharm": {
     "name": "#%%\n"
    }
   }
  },
  {
   "cell_type": "code",
   "execution_count": null,
   "outputs": [],
   "source": [
    "from BioTranslator.utils import load_obj\n",
    "\n",
    "pathway_dir = './Codebase/Pathway/data/ProteinDataset/KEGG/'\n",
    "model_path = './Codebase/Pathway/working_space/model/BioTranslator_KEGG.pth'\n",
    "pathway_graph = load_obj(pathway_dir + 'pathway_graph.pkl')"
   ],
   "metadata": {
    "collapsed": false,
    "pycharm": {
     "name": "#%%\n"
    }
   }
  },
  {
   "cell_type": "code",
   "execution_count": null,
   "outputs": [],
   "source": [
    "import torch\n",
    "model = torch.load(model_path)\n",
    "model.annotate(files, cfg, pathway_dir, task='node_cls')"
   ],
   "metadata": {
    "collapsed": false,
    "pycharm": {
     "name": "#%%\n"
    }
   }
  },
  {
   "cell_type": "code",
   "execution_count": null,
   "outputs": [],
   "source": [
    "result_path = './Codebase/Protein/data/GOA_Human/blast_preds_fold_0.pkl'\n",
    "origin_path = './Codebase/Protein/data/GOA_Human/validation_data_fold_0.pkl'\n",
    "a = load_obj(result_path)\n",
    "origin = load_obj(origin_path)"
   ],
   "metadata": {
    "collapsed": false,
    "pycharm": {
     "name": "#%%\n"
    }
   }
  },
  {
   "cell_type": "code",
   "execution_count": null,
   "outputs": [],
   "source": [
    "print(origin)"
   ],
   "metadata": {
    "collapsed": false,
    "pycharm": {
     "name": "#%%\n"
    }
   }
  },
  {
   "cell_type": "markdown",
   "source": [],
   "metadata": {
    "collapsed": false,
    "pycharm": {
     "name": "#%% md\n"
    }
   }
  }
 ],
 "metadata": {
  "kernelspec": {
   "display_name": "Python 3",
   "language": "python",
   "name": "python3"
  },
  "language_info": {
   "codemirror_mode": {
    "name": "ipython",
    "version": 2
   },
   "file_extension": ".py",
   "mimetype": "text/x-python",
   "name": "python",
   "nbconvert_exporter": "python",
   "pygments_lexer": "ipython2",
   "version": "2.7.6"
  }
 },
 "nbformat": 4,
 "nbformat_minor": 0
}